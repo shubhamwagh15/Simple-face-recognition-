{
  "nbformat": 4,
  "nbformat_minor": 0,
  "metadata": {
    "colab": {
      "name": "INTERNSHALA-0820-ASSIGN1-SHUBHAM DEVIDAS WAGH.ipynb",
      "provenance": [],
      "collapsed_sections": []
    },
    "kernelspec": {
      "name": "python3",
      "display_name": "Python 3"
    },
    "accelerator": "GPU"
  },
  "cells": [
    {
      "cell_type": "code",
      "metadata": {
        "id": "8Ga41c5tCdGf",
        "colab_type": "code",
        "colab": {
          "base_uri": "https://localhost:8080/",
          "height": 122
        },
        "outputId": "472688ac-415e-46f1-e1fe-cce396cb6f6b"
      },
      "source": [
        "from google.colab import drive\n",
        "drive.mount('/content/drive')"
      ],
      "execution_count": null,
      "outputs": [
        {
          "output_type": "stream",
          "text": [
            "Go to this URL in a browser: https://accounts.google.com/o/oauth2/auth?client_id=947318989803-6bn6qk8qdgf4n4g3pfee6491hc0brc4i.apps.googleusercontent.com&redirect_uri=urn%3aietf%3awg%3aoauth%3a2.0%3aoob&scope=email%20https%3a%2f%2fwww.googleapis.com%2fauth%2fdocs.test%20https%3a%2f%2fwww.googleapis.com%2fauth%2fdrive%20https%3a%2f%2fwww.googleapis.com%2fauth%2fdrive.photos.readonly%20https%3a%2f%2fwww.googleapis.com%2fauth%2fpeopleapi.readonly&response_type=code\n",
            "\n",
            "Enter your authorization code:\n",
            "··········\n",
            "Mounted at /content/drive\n"
          ],
          "name": "stdout"
        }
      ]
    },
    {
      "cell_type": "code",
      "metadata": {
        "id": "cbR_bRrxDsqP",
        "colab_type": "code",
        "colab": {}
      },
      "source": [
        "!pip install face_recognition"
      ],
      "execution_count": null,
      "outputs": []
    },
    {
      "cell_type": "code",
      "metadata": {
        "id": "6EPbmwl6EDCF",
        "colab_type": "code",
        "colab": {}
      },
      "source": [
        "###### Importing all the required libraries\n",
        "\n",
        "import  matplotlib.pyplot as plt\n",
        "from skimage.feature import hog\n",
        "from skimage import data, exposure\n",
        "import cv2\n",
        "from matplotlib.patches import Rectangle\n",
        "from matplotlib.patches import Circle\n",
        "import numpy as np\n",
        "%matplotlib inline\n",
        "from google.colab.patches import cv2_imshow\n",
        "import face_recognition\n",
        "import face_recognition as fs\n",
        "from scipy.spatial import distance"
      ],
      "execution_count": null,
      "outputs": []
    },
    {
      "cell_type": "code",
      "metadata": {
        "id": "DVwHivxQp8IC",
        "colab_type": "code",
        "colab": {}
      },
      "source": [
        "####### to read all the imges \n",
        "image = cv2.imread('/content/drive/My Drive/data/Cd/nuclei/Elon1.jpg')\n",
        "elon = cv2.cvtColor(image,cv2.COLOR_BGR2RGB)\n",
        "\n",
        "image = cv2.imread('/content/drive/My Drive/data/Cd/nuclei/Robert1.jpg')\n",
        "robert_downy = cv2.cvtColor(image,cv2.COLOR_BGR2RGB)\n",
        "\n",
        "image = cv2.imread('/content/drive/My Drive/data/Cd/nuclei/Ronaldo1.jpg')\n",
        "ronaldo = cv2.cvtColor(image,cv2.COLOR_BGR2RGB)\n",
        "\n",
        "image = cv2.imread('/content/drive/My Drive/data/Cd/nuclei/ian goodfellow.jpg')\n",
        "Ian_goodfellow = cv2.cvtColor(image,cv2.COLOR_BGR2RGB)\n",
        "\n",
        "image = cv2.imread('/content/drive/My Drive/data/Cd/nuclei/kalam sir.jpg')\n",
        "abdul_kalam = cv2.cvtColor(image,cv2.COLOR_BGR2RGB)\n",
        "\n",
        "image = cv2.imread('/content/drive/My Drive/data/Cd/nuclei/Unknown.jpg')\n",
        "unknown = cv2.cvtColor(image,cv2.COLOR_BGR2RGB)\n",
        "\n",
        "image = cv2.imread('/content/drive/My Drive/data/Cd/nuclei/unknown2.jpg')\n",
        "unknown1 = cv2.cvtColor(image,cv2.COLOR_BGR2RGB)\n",
        "\n",
        "image = cv2.imread('/content/drive/My Drive/data/Cd/nuclei/unknown3.jpg')\n",
        "unknown2 = cv2.cvtColor(image,cv2.COLOR_BGR2RGB)\n",
        "\n"
      ],
      "execution_count": null,
      "outputs": []
    },
    {
      "cell_type": "code",
      "metadata": {
        "id": "hIQzmsjf6xOT",
        "colab_type": "code",
        "colab": {}
      },
      "source": [
        "images = [elon,robert_downy,ronaldo,Ian_goodfellow,abdul_kalam]"
      ],
      "execution_count": null,
      "outputs": []
    },
    {
      "cell_type": "code",
      "metadata": {
        "id": "ahUwjODTwhF8",
        "colab_type": "code",
        "colab": {}
      },
      "source": [
        "####### create encodings of the images \n",
        "\n",
        "elon_encodings = face_recognition.face_encodings(elon)[0]\n",
        "robert_downy_encodings = face_recognition.face_encodings(robert_downy)[0]\n",
        "ronaldo_encodings = face_recognition.face_encodings(ronaldo)[0]\n",
        "Ian_goodfellow_encodings = face_recognition.face_encodings(Ian_goodfellow)[0]\n",
        "abdul_kalamencodings = face_recognition.face_encodings(abdul_kalam)[0]\n"
      ],
      "execution_count": null,
      "outputs": []
    },
    {
      "cell_type": "code",
      "metadata": {
        "id": "mtZFBoFDzGMY",
        "colab_type": "code",
        "colab": {}
      },
      "source": [
        "### Create list of encodings\n",
        "known_face_encodings = [elon_encodings,\n",
        "                        robert_downy_encodings,\n",
        "                        ronaldo_encodings,\n",
        "                        Ian_goodfellow_encodings,\n",
        "                        abdul_kalamencodings]"
      ],
      "execution_count": null,
      "outputs": []
    },
    {
      "cell_type": "code",
      "metadata": {
        "id": "CvZx8LOnzf3Y",
        "colab_type": "code",
        "colab": {}
      },
      "source": [
        "##### encoding for unknown images\n",
        "unknown_encodings = face_recognition.face_encodings(unknown)[0]\n",
        "unknown1_encodings = face_recognition.face_encodings(unknown1)[0]\n",
        "unknown2_encodings = face_recognition.face_encodings(unknown2)[0]\n",
        "unknown_face_encodings = [unknown_encodings,unknown1_encodings ,unknown2_encodings]     ######## list of unknown encodings"
      ],
      "execution_count": null,
      "outputs": []
    },
    {
      "cell_type": "code",
      "metadata": {
        "id": "kcoCY0L53Yt9",
        "colab_type": "code",
        "colab": {}
      },
      "source": [
        "def face_recognise():                                 ######## defining function\n",
        "\n",
        "  for unknown_encoding in unknown_face_encodings:     ############# applying for loop on unknown encodings\n",
        "\n",
        "\n",
        "    result = []                                       ######### creating empty lis\n",
        "  \n",
        "    for known_encoding in known_face_encodings:\n",
        "      d = distance.euclidean(known_encoding,unknown_encoding)     ###### calculating euclidian distance  two check similarity in images\n",
        "\n",
        "      result.append(d)                                  \n",
        "   ###### appending result in empty list\n",
        "    threshold = 0.6\n",
        "    results = np.array(result)  <= threshold\n",
        "    ##### using threshold to decide the image \n",
        "    name = \"unkmown\"                               \n",
        "    if results[0]:                        ###### apllying nested if else loop to check through each image                            \n",
        "      name = \"elon musk\"\n",
        "    elif results[1]:\n",
        "      name = \"robert_downy\"\n",
        "    elif results[2]:\n",
        "      name = \"ronaldo\"\n",
        "    elif results[3]:\n",
        "      name = \"Ian_goodfellow\"\n",
        "    elif results[4]:\n",
        "      name = \"abdul_kalam\"\n",
        "\n",
        "    print(f\"Found {name} in image\")\n",
        "  \n"
      ],
      "execution_count": null,
      "outputs": []
    },
    {
      "cell_type": "code",
      "metadata": {
        "id": "cRwcIhJb4Hk9",
        "colab_type": "code",
        "colab": {
          "base_uri": "https://localhost:8080/",
          "height": 68
        },
        "outputId": "b703e2e1-544b-492c-8b0b-b0f0e1dc4069"
      },
      "source": [
        "########### Final results on unknown iamges \n",
        "face_recognise()"
      ],
      "execution_count": null,
      "outputs": [
        {
          "output_type": "stream",
          "text": [
            "Found Ian_goodfellow in image\n",
            "Found elon musk in image\n",
            "Found ronaldo in image\n"
          ],
          "name": "stdout"
        }
      ]
    },
    {
      "cell_type": "code",
      "metadata": {
        "id": "V3YkHPIYBQdL",
        "colab_type": "code",
        "colab": {}
      },
      "source": [
        "############# to directly read all the images from drive and create list\n",
        "import os\n",
        "from face_recognition.face_recognition_cli import image_files_in_folder\n",
        "my_dir = '/content/drive/My Drive/data/Cd/nuclei/' # Folder where all your image files reside. Ensure it ends with '/\n",
        "encoding_for_file = [] # Create an empty list for saving encoded files\n",
        "for i in os.listdir(my_dir): # Loop over the folder to list individual files\n",
        "    image = my_dir + i\n",
        "    image = face_recognition.load_image_file(image) # Run your load command\n",
        "    image_encoding = face_recognition.face_encodings(image)\n",
        "    encoding_for_file.append(image_encoding[0]) # Append the results to encoding_for_file list\n",
        "\n"
      ],
      "execution_count": null,
      "outputs": []
    },
    {
      "cell_type": "code",
      "metadata": {
        "id": "ifZCJ444BuIL",
        "colab_type": "code",
        "colab": {}
      },
      "source": [
        "####### further convolutional neural networks can be implemented for face recognition but \n",
        "####### but large image data will be required for each class"
      ],
      "execution_count": null,
      "outputs": []
    }
  ]
}